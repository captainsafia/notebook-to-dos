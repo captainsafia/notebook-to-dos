{
 "cells": [
  {
   "cell_type": "markdown",
   "metadata": {},
   "source": [
    "Lorem ipsum dolor sit amet, consectetur adipiscing elit. Phasellus dui nisi, vestibulum ac elementum a, mollis sit amet ipsum. Suspendisse congue et urna finibus cursus. Sed turpis nisi, facilisis et orci ut, hendrerit rutrum enim. Aenean pretium mollis urna, a rutrum purus auctor vitae. Vivamus consectetur, velit in laoreet efficitur, leo lorem rutrum nisi, sagittis scelerisque nibh augue eu mi. Praesent sit amet ultricies ante. Vivamus id dictum nisl. Vestibulum ac pellentesque justo. Aliquam erat volutpat. Curabitur nec volutpat purus. Pellentesque eget varius urna, sit amet tempus enim. Curabitur ac mauris nibh.\n",
    "\n",
    "Nulla non massa leo. In consequat pellentesque libero, nec malesuada quam efficitur vel. Class aptent taciti sociosqu ad litora torquent per conubia nostra, per inceptos himenaeos. Donec arcu metus, finibus eget varius nec, fringilla eget velit. Phasellus vitae lacus sed sem rutrum ultrices. Cras sit amet viverra mi, in dapibus enim. Vestibulum ultrices lacus placerat condimentum varius. Pellentesque ultrices lorem odio, vitae hendrerit enim vulputate hendrerit. Curabitur a pellentesque lorem, ut hendrerit risus. Etiam tristique nulla nisi, eu vehicula lacus efficitur dictum. Mauris placerat congue diam non euismod. Ut lacinia luctus imperdiet. Integer rutrum dui ac iaculis scelerisque. Nunc mollis justo vitae pulvinar accumsan.\n",
    "\n",
    "Duis nec nibh tempus nulla pellentesque volutpat. Aenean turpis metus, tincidunt in nulla et, semper pellentesque lectus. Suspendisse varius nulla id consectetur fringilla. Nulla porttitor magna sit amet volutpat placerat. Fusce iaculis at tellus in molestie. Vestibulum euismod posuere massa sit amet pellentesque. Vivamus faucibus consectetur velit, sed faucibus arcu. Cras in elementum ligula. Duis purus nisl, placerat vitae tristique nec, porta ut purus. Quisque porttitor aliquam enim sit amet porta. Nunc sit amet facilisis arcu, quis bibendum eros. Vestibulum nunc nunc, congue sit amet pellentesque nec, finibus mattis lorem. Cras aliquam, ante sed dapibus auctor, sapien velit accumsan urna, non maximus arcu justo sit amet turpis.\n",
    "\n",
    "Donec eget velit enim. Integer consequat consectetur libero, in commodo ante placerat at. Nunc sit amet euismod ipsum. Fusce nec mattis odio. Ut vitae maximus ex. Interdum et malesuada fames ac ante ipsum primis in faucibus. Curabitur sed velit ullamcorper, porttitor nunc sed, euismod urna. Sed et vulputate turpis, ut molestie turpis. Vivamus vitae lacus arcu. Morbi suscipit consequat nibh, quis varius diam rutrum id.\n",
    "\n",
    "Suspendisse libero diam, sollicitudin id augue sit amet, interdum commodo purus. Proin et mauris risus. Mauris tincidunt ante sem, quis pharetra ipsum sodales id. Donec lobortis ligula leo, ac rutrum nisi egestas id. Nulla laoreet dui id urna cursus ornare. Nulla condimentum elementum urna nec vestibulum. Mauris in nisl nisi. Nam dictum aliquet lacus nec fermentum."
   ]
  },
  {
   "cell_type": "code",
   "execution_count": null,
   "metadata": {
    "collapsed": true
   },
   "outputs": [],
   "source": []
  }
 ],
 "metadata": {
  "kernelspec": {
   "display_name": "Python 3",
   "language": "python",
   "name": "python3"
  },
  "language_info": {
   "codemirror_mode": {
    "name": "ipython",
    "version": 3
   },
   "file_extension": ".py",
   "mimetype": "text/x-python",
   "name": "python",
   "nbconvert_exporter": "python",
   "pygments_lexer": "ipython3",
   "version": "3.5.1"
  }
 },
 "nbformat": 4,
 "nbformat_minor": 1
}
